{
  "nbformat": 4,
  "nbformat_minor": 0,
  "metadata": {
    "colab": {
      "provenance": [],
      "authorship_tag": "ABX9TyNc4Z5R8YYwXHJGIruo/y/i",
      "include_colab_link": true
    },
    "kernelspec": {
      "name": "python3",
      "display_name": "Python 3"
    },
    "language_info": {
      "name": "python"
    }
  },
  "cells": [
    {
      "cell_type": "markdown",
      "metadata": {
        "id": "view-in-github",
        "colab_type": "text"
      },
      "source": [
        "<a href=\"https://colab.research.google.com/github/aceleresuaideia/Flowise/blob/main/fusionLead.ipynb\" target=\"_parent\"><img src=\"https://colab.research.google.com/assets/colab-badge.svg\" alt=\"Open In Colab\"/></a>"
      ]
    },
    {
      "cell_type": "code",
      "execution_count": null,
      "metadata": {
        "id": "7V4cVcpKmk5O"
      },
      "outputs": [],
      "source": [
        "from google.colab import auth\n",
        "auth.authenticate_user()\n",
        "\n",
        "!pip install gspread\n",
        "import gspread\n",
        "from google.auth import default\n",
        "import pandas as pd\n",
        "\n",
        "# Carregar credenciais\n",
        "creds, _ = default()\n",
        "gc = gspread.authorize(creds)\n",
        "\n",
        "# IDs das planilhas do Google Sheets\n",
        "id_planilha1 = 'ID_DA_PLANILHA1'\n",
        "id_planilha2 = 'ID_DA_PLANILHA2'\n",
        "\n",
        "# Abrir as planilhas\n",
        "sh1 = gc.open_by_key(id_planilha1).sheet1\n",
        "sh2 = gc.open_by_key(id_planilha2).sheet1\n",
        "\n",
        "# Carregar dados das planilhas\n",
        "data1 = sh1.get_all_records()\n",
        "data2 = sh2.get_all_records()\n",
        "\n",
        "# Converter para DataFrames\n",
        "df1 = pd.DataFrame(data1)\n",
        "df2 = pd.DataFrame(data2)\n",
        "\n",
        "# Unir as planilhas\n",
        "df_unido = pd.concat([df1, df2], ignore_index=True)\n",
        "\n",
        "# Salvar a planilha unida em uma nova planilha do Google Sheets\n",
        "id_planilha_unida = 'ID_DA_PLANILHA_UNIDA'\n",
        "ws = gc.open_by_key(id_planilha_unida).sheet1\n",
        "\n",
        "# Limpar a planilha existente antes de adicionar novos dados\n",
        "ws.clear()\n",
        "\n",
        "# Adicionar cabeçalho e dados\n",
        "ws.append_row(df_unido.columns.to_list())\n",
        "for row in df_unido.to_numpy().tolist():\n",
        "    ws.append_row(row)\n"
      ]
    }
  ]
}